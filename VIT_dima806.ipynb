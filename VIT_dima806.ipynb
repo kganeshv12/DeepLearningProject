{
 "cells": [
  {
   "cell_type": "code",
   "execution_count": 1,
   "metadata": {},
   "outputs": [
    {
     "name": "stdout",
     "output_type": "stream",
     "text": [
      "\r\n",
      "\u001b[1m[\u001b[0m\u001b[34;49mnotice\u001b[0m\u001b[1;39;49m]\u001b[0m\u001b[39;49m A new release of pip is available: \u001b[0m\u001b[31;49m23.1\u001b[0m\u001b[39;49m -> \u001b[0m\u001b[32;49m24.0\u001b[0m\r\n",
      "\u001b[1m[\u001b[0m\u001b[34;49mnotice\u001b[0m\u001b[1;39;49m]\u001b[0m\u001b[39;49m To update, run: \u001b[0m\u001b[32;49mpython3.9 -m pip install --upgrade pip\u001b[0m\r\n"
     ]
    }
   ],
   "source": [
    "!pip install opendatasets accelerate imblearn --upgrade --quiet\n",
    "\n",
    "import pandas as pd\n",
    "import os\n",
    "import opendatasets as od\n",
    "\n",
    "# Assign the Kaggle data set URL into variable\n",
    "# dataset = 'https://www.kaggle.com/datasets/birdy654/cifake-real-and-ai-generated-synthetic-images'\n",
    "# # Using opendatasets let's download the data sets\n",
    "# od.download(dataset)\n",
    "# # {\"username\":\"kganeshv\",\"key\":\"224eab20b74a0a68fc7194190f513131\"}"
   ]
  },
  {
   "cell_type": "code",
   "execution_count": 2,
   "metadata": {
    "scrolled": true
   },
   "outputs": [
    {
     "name": "stdout",
     "output_type": "stream",
     "text": [
      "\r\n",
      "\u001b[1m[\u001b[0m\u001b[34;49mnotice\u001b[0m\u001b[1;39;49m]\u001b[0m\u001b[39;49m A new release of pip is available: \u001b[0m\u001b[31;49m23.1\u001b[0m\u001b[39;49m -> \u001b[0m\u001b[32;49m24.0\u001b[0m\r\n",
      "\u001b[1m[\u001b[0m\u001b[34;49mnotice\u001b[0m\u001b[1;39;49m]\u001b[0m\u001b[39;49m To update, run: \u001b[0m\u001b[32;49mpython3.9 -m pip install --upgrade pip\u001b[0m\r\n"
     ]
    }
   ],
   "source": [
    "!pip install transformers --upgrade --quiet"
   ]
  },
  {
   "cell_type": "code",
   "execution_count": 3,
   "metadata": {},
   "outputs": [],
   "source": [
    "from transformers import ViTImageProcessor"
   ]
  },
  {
   "cell_type": "markdown",
   "metadata": {},
   "source": [
    "# Preprocess"
   ]
  },
  {
   "cell_type": "code",
   "execution_count": 4,
   "metadata": {
    "execution": {
     "iopub.execute_input": "2024-04-15T09:36:35.803429Z",
     "iopub.status.busy": "2024-04-15T09:36:35.802715Z",
     "iopub.status.idle": "2024-04-15T09:36:35.810290Z",
     "shell.execute_reply": "2024-04-15T09:36:35.809234Z",
     "shell.execute_reply.started": "2024-04-15T09:36:35.803394Z"
    }
   },
   "outputs": [],
   "source": [
    "# Import necessary libraries\n",
    "import warnings\n",
    "warnings.filterwarnings(\"ignore\")\n",
    "\n",
    "import gc\n",
    "import numpy as np\n",
    "import pandas as pd\n",
    "import itertools\n",
    "from collections import Counter\n",
    "import accelerate\n",
    "import matplotlib.pyplot as plt\n",
    "from sklearn.metrics import accuracy_score, roc_auc_score, confusion_matrix, classification_report, f1_score, precision_score, recall_score\n",
    "from imblearn.over_sampling import RandomOverSampler\n",
    "from datasets import Dataset, Image, ClassLabel\n",
    "from transformers import TrainingArguments, Trainer, ViTImageProcessor, ViTForImageClassification, DefaultDataCollator\n",
    "import torch\n",
    "from torch.utils.data import DataLoader\n",
    "from torchvision.transforms import CenterCrop, Compose, Normalize, RandomRotation, RandomResizedCrop, RandomHorizontalFlip, RandomAdjustSharpness, Resize, ToTensor\n",
    "from PIL import ImageFile\n",
    "from pathlib import Path"
   ]
  },
  {
   "cell_type": "code",
   "execution_count": 5,
   "metadata": {
    "execution": {
     "iopub.execute_input": "2024-04-15T09:36:55.777362Z",
     "iopub.status.busy": "2024-04-15T09:36:55.776976Z",
     "iopub.status.idle": "2024-04-15T09:36:55.781904Z",
     "shell.execute_reply": "2024-04-15T09:36:55.780895Z",
     "shell.execute_reply.started": "2024-04-15T09:36:55.777332Z"
    }
   },
   "outputs": [
    {
     "name": "stdout",
     "output_type": "stream",
     "text": [
      "0 0\n"
     ]
    }
   ],
   "source": [
    "ImageFile.LOAD_TRUNCATED_IMAGES = True\n",
    "\n",
    "# Define the list of file names\n",
    "file_names = []\n",
    "labels = []\n",
    "print(len(file_names), len(labels))"
   ]
  },
  {
   "cell_type": "code",
   "execution_count": 6,
   "metadata": {
    "execution": {
     "iopub.execute_input": "2024-04-15T09:37:07.354696Z",
     "iopub.status.busy": "2024-04-15T09:37:07.353814Z",
     "iopub.status.idle": "2024-04-15T09:37:11.365166Z",
     "shell.execute_reply": "2024-04-15T09:37:11.364287Z",
     "shell.execute_reply.started": "2024-04-15T09:37:07.354661Z"
    }
   },
   "outputs": [
    {
     "data": {
      "text/plain": [
       "0"
      ]
     },
     "execution_count": 6,
     "metadata": {},
     "output_type": "execute_result"
    }
   ],
   "source": [
    "for file in sorted((Path('cifake-real-and-ai-generated-synthetic-images/').glob('*/*/*.*'))):\n",
    "    label = str(file).split('/')[-2]  # Extract the label from the file path\n",
    "    labels.append(label)  # Add the label to the list\n",
    "    file_names.append(str(file))  # Add the file path to the list\n",
    "\n",
    "# Create a pandas dataframe from the collected file names and labels\n",
    "df = pd.DataFrame.from_dict({\"image\": file_names, \"label\": labels})\n",
    "\n",
    "# Random oversampling of minority class\n",
    "y = df[['label']]\n",
    "df = df.drop(['label'], axis=1)\n",
    "ros = RandomOverSampler(random_state=83)\n",
    "df, y_resampled = ros.fit_resample(df, y)\n",
    "del y\n",
    "df['label'] = y_resampled\n",
    "del y_resampled\n",
    "gc.collect()"
   ]
  },
  {
   "cell_type": "code",
   "execution_count": 7,
   "metadata": {},
   "outputs": [
    {
     "data": {
      "text/html": [
       "<div>\n",
       "<style scoped>\n",
       "    .dataframe tbody tr th:only-of-type {\n",
       "        vertical-align: middle;\n",
       "    }\n",
       "\n",
       "    .dataframe tbody tr th {\n",
       "        vertical-align: top;\n",
       "    }\n",
       "\n",
       "    .dataframe thead th {\n",
       "        text-align: right;\n",
       "    }\n",
       "</style>\n",
       "<table border=\"1\" class=\"dataframe\">\n",
       "  <thead>\n",
       "    <tr style=\"text-align: right;\">\n",
       "      <th></th>\n",
       "      <th>image</th>\n",
       "      <th>label</th>\n",
       "    </tr>\n",
       "  </thead>\n",
       "  <tbody>\n",
       "    <tr>\n",
       "      <th>0</th>\n",
       "      <td>cifake-real-and-ai-generated-synthetic-images/...</td>\n",
       "      <td>FAKE</td>\n",
       "    </tr>\n",
       "    <tr>\n",
       "      <th>1</th>\n",
       "      <td>cifake-real-and-ai-generated-synthetic-images/...</td>\n",
       "      <td>FAKE</td>\n",
       "    </tr>\n",
       "    <tr>\n",
       "      <th>2</th>\n",
       "      <td>cifake-real-and-ai-generated-synthetic-images/...</td>\n",
       "      <td>FAKE</td>\n",
       "    </tr>\n",
       "    <tr>\n",
       "      <th>3</th>\n",
       "      <td>cifake-real-and-ai-generated-synthetic-images/...</td>\n",
       "      <td>FAKE</td>\n",
       "    </tr>\n",
       "    <tr>\n",
       "      <th>4</th>\n",
       "      <td>cifake-real-and-ai-generated-synthetic-images/...</td>\n",
       "      <td>FAKE</td>\n",
       "    </tr>\n",
       "  </tbody>\n",
       "</table>\n",
       "</div>"
      ],
      "text/plain": [
       "                                               image label\n",
       "0  cifake-real-and-ai-generated-synthetic-images/...  FAKE\n",
       "1  cifake-real-and-ai-generated-synthetic-images/...  FAKE\n",
       "2  cifake-real-and-ai-generated-synthetic-images/...  FAKE\n",
       "3  cifake-real-and-ai-generated-synthetic-images/...  FAKE\n",
       "4  cifake-real-and-ai-generated-synthetic-images/...  FAKE"
      ]
     },
     "execution_count": 7,
     "metadata": {},
     "output_type": "execute_result"
    }
   ],
   "source": [
    "df.head()"
   ]
  },
  {
   "cell_type": "code",
   "execution_count": 8,
   "metadata": {},
   "outputs": [
    {
     "data": {
      "text/plain": [
       "array(['FAKE', 'REAL'], dtype=object)"
      ]
     },
     "execution_count": 8,
     "metadata": {},
     "output_type": "execute_result"
    }
   ],
   "source": [
    "df['label'].unique()"
   ]
  },
  {
   "cell_type": "code",
   "execution_count": 9,
   "metadata": {
    "execution": {
     "iopub.execute_input": "2024-04-15T09:37:36.092452Z",
     "iopub.status.busy": "2024-04-15T09:37:36.091804Z",
     "iopub.status.idle": "2024-04-15T09:37:36.785932Z",
     "shell.execute_reply": "2024-04-15T09:37:36.785035Z",
     "shell.execute_reply.started": "2024-04-15T09:37:36.092419Z"
    }
   },
   "outputs": [
    {
     "data": {
      "application/vnd.jupyter.widget-view+json": {
       "model_id": "0be12af51d16444ca432316ab7f65fab",
       "version_major": 2,
       "version_minor": 0
      },
      "text/plain": [
       "  0%|          | 0/120 [00:00<?, ?ba/s]"
      ]
     },
     "metadata": {},
     "output_type": "display_data"
    },
    {
     "data": {
      "application/vnd.jupyter.widget-view+json": {
       "model_id": "4f7f702e6c584a3e8e8968c3bed6040b",
       "version_major": 2,
       "version_minor": 0
      },
      "text/plain": [
       "Casting the dataset:   0%|          | 0/12 [00:00<?, ?ba/s]"
      ]
     },
     "metadata": {},
     "output_type": "display_data"
    }
   ],
   "source": [
    "# Create a dataset from a Pandas DataFrame\n",
    "dataset = Dataset.from_pandas(df).cast_column(\"image\", Image())\n",
    "\n",
    "# Mapping labels to IDs\n",
    "labels_list = ['REAL', 'FAKE']\n",
    "label2id, id2label = dict(), dict()\n",
    "for i, label in enumerate(labels_list):\n",
    "    label2id[label] = i\n",
    "    id2label[i] = label\n",
    "\n",
    "# Creating classlabels to match labels to IDs\n",
    "ClassLabels = ClassLabel(num_classes=len(labels_list), names=labels_list)\n",
    "\n",
    "def map_label2id(example):\n",
    "    example['label'] = ClassLabels.str2int(example['label'])\n",
    "    return example\n",
    "\n",
    "dataset = dataset.map(map_label2id, batched=True)\n",
    "dataset = dataset.cast_column('label', ClassLabels)\n",
    "dataset = dataset.train_test_split(test_size=0.4, shuffle=True, stratify_by_column=\"label\")\n",
    "train_data = dataset['train']\n",
    "test_data = dataset['test']"
   ]
  },
  {
   "cell_type": "code",
   "execution_count": 10,
   "metadata": {
    "execution": {
     "iopub.execute_input": "2024-04-15T09:37:55.597414Z",
     "iopub.status.busy": "2024-04-15T09:37:55.597044Z",
     "iopub.status.idle": "2024-04-15T09:37:55.791864Z",
     "shell.execute_reply": "2024-04-15T09:37:55.790941Z",
     "shell.execute_reply.started": "2024-04-15T09:37:55.597386Z"
    }
   },
   "outputs": [],
   "source": [
    "model_str = \"dima806/ai_vs_real_image_detection\"\n",
    "\n",
    "# Create a processor for ViT model input from the pre-trained model\n",
    "processor = ViTImageProcessor.from_pretrained(model_str)\n",
    "image_mean, image_std = processor.image_mean, processor.image_std\n",
    "size = processor.size[\"height\"]\n",
    "\n",
    "# Define a normalization transformation for the input images\n",
    "normalize = Normalize(mean=image_mean, std=image_std)\n"
   ]
  },
  {
   "cell_type": "code",
   "execution_count": 11,
   "metadata": {
    "execution": {
     "iopub.execute_input": "2024-04-15T09:38:06.566494Z",
     "iopub.status.busy": "2024-04-15T09:38:06.565610Z",
     "iopub.status.idle": "2024-04-15T09:38:06.571941Z",
     "shell.execute_reply": "2024-04-15T09:38:06.570855Z",
     "shell.execute_reply.started": "2024-04-15T09:38:06.566461Z"
    }
   },
   "outputs": [],
   "source": [
    "_train_transforms = Compose([\n",
    "    Resize((size, size)),\n",
    "    RandomRotation(90),\n",
    "    RandomAdjustSharpness(2),\n",
    "    ToTensor(),\n",
    "    normalize\n",
    "])\n",
    "\n",
    "# Define transformations for validation data\n",
    "_val_transforms = Compose([\n",
    "    Resize((size, size)),\n",
    "    ToTensor(),\n",
    "    normalize\n",
    "])"
   ]
  },
  {
   "cell_type": "code",
   "execution_count": 12,
   "metadata": {
    "execution": {
     "iopub.execute_input": "2024-04-15T09:38:27.492734Z",
     "iopub.status.busy": "2024-04-15T09:38:27.492383Z",
     "iopub.status.idle": "2024-04-15T09:38:27.507924Z",
     "shell.execute_reply": "2024-04-15T09:38:27.506923Z",
     "shell.execute_reply.started": "2024-04-15T09:38:27.492707Z"
    }
   },
   "outputs": [],
   "source": [
    "def train_transforms(examples):\n",
    "    examples['pixel_values'] = [_train_transforms(image.convert(\"RGB\")) for image in examples['image']]\n",
    "    return examples\n",
    "\n",
    "# Define a function to apply validation transformations to a batch of examples\n",
    "def val_transforms(examples):\n",
    "    examples['pixel_values'] = [_val_transforms(image.convert(\"RGB\")) for image in examples['image']]\n",
    "    return examples\n",
    "\n",
    "# Set the transforms for the training data\n",
    "train_data.set_transform(train_transforms)\n",
    "test_data.set_transform(val_transforms)\n",
    "\n",
    "# Define a collate function for preparing batched data\n",
    "def collate_fn(examples):\n",
    "    pixel_values = torch.stack([example[\"pixel_values\"] for example in examples])\n",
    "    labels = torch.tensor([example['label'] for example in examples])\n",
    "    return {\"pixel_values\": pixel_values, \"labels\": labels}\n"
   ]
  },
  {
   "cell_type": "markdown",
   "metadata": {},
   "source": [
    "# Load, train, and evaluate model"
   ]
  },
  {
   "cell_type": "code",
   "execution_count": 13,
   "metadata": {
    "execution": {
     "iopub.execute_input": "2024-04-15T09:38:44.267457Z",
     "iopub.status.busy": "2024-04-15T09:38:44.266628Z",
     "iopub.status.idle": "2024-04-15T09:38:49.605909Z",
     "shell.execute_reply": "2024-04-15T09:38:49.604819Z",
     "shell.execute_reply.started": "2024-04-15T09:38:44.267420Z"
    }
   },
   "outputs": [
    {
     "name": "stdout",
     "output_type": "stream",
     "text": [
      "85.800194\n"
     ]
    }
   ],
   "source": [
    "model = ViTForImageClassification.from_pretrained(model_str, num_labels=len(labels_list))\n",
    "model.config.id2label = id2label\n",
    "model.config.label2id = label2id\n",
    "\n",
    "# Calculate the number of trainable parameters in millions for the model\n",
    "print(model.num_parameters(only_trainable=True) / 1e6)\n",
    "\n",
    "# Define the training arguments\n",
    "num_train_epochs = 2\n",
    "args = TrainingArguments(\n",
    "    output_dir=\"ai_vs_real_image_detection\",\n",
    "    logging_dir='./logs',\n",
    "    evaluation_strategy=\"epoch\",\n",
    "    learning_rate=3e-6,\n",
    "    per_device_train_batch_size=64,\n",
    "    per_device_eval_batch_size=32,\n",
    "    num_train_epochs=num_train_epochs,\n",
    "    weight_decay=0.02,\n",
    "    warmup_steps=50,\n",
    "    remove_unused_columns=False,\n",
    "    save_strategy='epoch',\n",
    "    load_best_model_at_end=True,\n",
    "    save_total_limit=1,\n",
    "    report_to=\"none\"\n",
    ")"
   ]
  },
  {
   "cell_type": "code",
   "execution_count": 14,
   "metadata": {
    "execution": {
     "iopub.execute_input": "2024-04-15T09:39:01.472786Z",
     "iopub.status.busy": "2024-04-15T09:39:01.471688Z",
     "iopub.status.idle": "2024-04-15T09:39:01.772137Z",
     "shell.execute_reply": "2024-04-15T09:39:01.771074Z",
     "shell.execute_reply.started": "2024-04-15T09:39:01.472751Z"
    }
   },
   "outputs": [
    {
     "name": "stderr",
     "output_type": "stream",
     "text": [
      "Detected kernel version 5.4.0, which is below the recommended minimum of 5.5.0; this can cause the process to hang. It is recommended to upgrade the kernel to the minimum version or higher.\n"
     ]
    }
   ],
   "source": [
    "# Create a Trainer instance for fine-tuning the model\n",
    "trainer = Trainer(\n",
    "    model,\n",
    "    args,\n",
    "    train_dataset=train_data,\n",
    "    eval_dataset=test_data,\n",
    "    data_collator=collate_fn,\n",
    "    tokenizer=processor,\n",
    ")"
   ]
  },
  {
   "cell_type": "code",
   "execution_count": 15,
   "metadata": {
    "execution": {
     "iopub.execute_input": "2024-04-15T09:39:10.128155Z",
     "iopub.status.busy": "2024-04-15T09:39:10.127792Z",
     "iopub.status.idle": "2024-04-15T09:49:16.898655Z",
     "shell.execute_reply": "2024-04-15T09:49:16.897673Z",
     "shell.execute_reply.started": "2024-04-15T09:39:10.128127Z"
    }
   },
   "outputs": [
    {
     "data": {
      "text/html": [
       "\n",
       "    <div>\n",
       "      \n",
       "      <progress value='3000' max='1500' style='width:300px; height:20px; vertical-align: middle;'></progress>\n",
       "      [1500/1500 38:03]\n",
       "    </div>\n",
       "    "
      ],
      "text/plain": [
       "<IPython.core.display.HTML object>"
      ]
     },
     "metadata": {},
     "output_type": "display_data"
    },
    {
     "data": {
      "text/plain": [
       "{'eval_loss': 0.045413244515657425,\n",
       " 'eval_runtime': 288.9471,\n",
       " 'eval_samples_per_second': 166.12,\n",
       " 'eval_steps_per_second': 5.191}"
      ]
     },
     "execution_count": 15,
     "metadata": {},
     "output_type": "execute_result"
    }
   ],
   "source": [
    "# Evaluate the pre-training model's performance on the test dataset\n",
    "trainer.evaluate()"
   ]
  },
  {
   "cell_type": "code",
   "execution_count": 17,
   "metadata": {
    "execution": {
     "iopub.execute_input": "2024-04-15T10:57:45.463219Z",
     "iopub.status.busy": "2024-04-15T10:57:45.462946Z",
     "iopub.status.idle": "2024-04-15T12:02:52.504686Z",
     "shell.execute_reply": "2024-04-15T12:02:52.503617Z",
     "shell.execute_reply.started": "2024-04-15T10:57:45.463195Z"
    }
   },
   "outputs": [
    {
     "data": {
      "text/html": [
       "\n",
       "    <div>\n",
       "      \n",
       "      <progress value='2250' max='2250' style='width:300px; height:20px; vertical-align: middle;'></progress>\n",
       "      [2250/2250 41:57, Epoch 2/2]\n",
       "    </div>\n",
       "    <table border=\"1\" class=\"dataframe\">\n",
       "  <thead>\n",
       " <tr style=\"text-align: left;\">\n",
       "      <th>Epoch</th>\n",
       "      <th>Training Loss</th>\n",
       "      <th>Validation Loss</th>\n",
       "    </tr>\n",
       "  </thead>\n",
       "  <tbody>\n",
       "    <tr>\n",
       "      <td>1</td>\n",
       "      <td>0.042500</td>\n",
       "      <td>0.044537</td>\n",
       "    </tr>\n",
       "    <tr>\n",
       "      <td>2</td>\n",
       "      <td>0.032900</td>\n",
       "      <td>0.044578</td>\n",
       "    </tr>\n",
       "  </tbody>\n",
       "</table><p>"
      ],
      "text/plain": [
       "<IPython.core.display.HTML object>"
      ]
     },
     "metadata": {},
     "output_type": "display_data"
    },
    {
     "data": {
      "text/plain": [
       "TrainOutput(global_step=2250, training_loss=0.03541978391011556, metrics={'train_runtime': 2518.4429, 'train_samples_per_second': 57.178, 'train_steps_per_second': 0.893, 'total_flos': 1.3286466571359486e+19, 'train_loss': 0.03541978391011556, 'epoch': 2.0})"
      ]
     },
     "execution_count": 17,
     "metadata": {},
     "output_type": "execute_result"
    }
   ],
   "source": [
    "\n",
    "# Train the model\n",
    "trainer.train()"
   ]
  },
  {
   "cell_type": "code",
   "execution_count": 18,
   "metadata": {
    "execution": {
     "iopub.execute_input": "2024-04-15T12:02:52.509818Z",
     "iopub.status.busy": "2024-04-15T12:02:52.509545Z",
     "iopub.status.idle": "2024-04-15T12:09:23.818979Z"
    }
   },
   "outputs": [
    {
     "data": {
      "text/html": [],
      "text/plain": [
       "<IPython.core.display.HTML object>"
      ]
     },
     "metadata": {},
     "output_type": "display_data"
    },
    {
     "data": {
      "text/plain": [
       "{'eval_loss': 0.0445365309715271,\n",
       " 'eval_runtime': 253.7103,\n",
       " 'eval_samples_per_second': 189.192,\n",
       " 'eval_steps_per_second': 5.912,\n",
       " 'epoch': 2.0}"
      ]
     },
     "execution_count": 18,
     "metadata": {},
     "output_type": "execute_result"
    }
   ],
   "source": [
    "\n",
    "# Evaluate the post-training model's performance on the test dataset\n",
    "trainer.evaluate()\n"
   ]
  },
  {
   "cell_type": "code",
   "execution_count": 19,
   "metadata": {
    "execution": {
     "iopub.execute_input": "2024-04-15T12:19:01.495848Z",
     "iopub.status.busy": "2024-04-15T12:19:01.495470Z",
     "iopub.status.idle": "2024-04-15T12:25:41.730815Z",
     "shell.execute_reply": "2024-04-15T12:25:41.729844Z",
     "shell.execute_reply.started": "2024-04-15T12:19:01.495819Z"
    }
   },
   "outputs": [
    {
     "name": "stdout",
     "output_type": "stream",
     "text": [
      "{'test_loss': 0.0445365309715271, 'test_runtime': 275.867, 'test_samples_per_second': 173.997, 'test_steps_per_second': 5.437}\n"
     ]
    }
   ],
   "source": [
    "outputs = trainer.predict(test_data)\n",
    "print(outputs.metrics)"
   ]
  },
  {
   "cell_type": "code",
   "execution_count": 20,
   "metadata": {
    "execution": {
     "iopub.execute_input": "2024-04-15T12:39:20.497210Z",
     "iopub.status.busy": "2024-04-15T12:39:20.496310Z",
     "iopub.status.idle": "2024-04-15T12:39:20.502023Z",
     "shell.execute_reply": "2024-04-15T12:39:20.500992Z",
     "shell.execute_reply.started": "2024-04-15T12:39:20.497165Z"
    }
   },
   "outputs": [],
   "source": [
    "y_true = outputs.label_ids\n",
    "y_pred = outputs.predictions.argmax(1)"
   ]
  },
  {
   "cell_type": "code",
   "execution_count": 21,
   "metadata": {
    "execution": {
     "iopub.execute_input": "2024-04-15T12:39:21.606214Z",
     "iopub.status.busy": "2024-04-15T12:39:21.605467Z",
     "iopub.status.idle": "2024-04-15T12:39:21.614672Z",
     "shell.execute_reply": "2024-04-15T12:39:21.613511Z",
     "shell.execute_reply.started": "2024-04-15T12:39:21.606181Z"
    }
   },
   "outputs": [],
   "source": [
    "def plot_confusion_matrix(cm, classes, title='Confusion Matrix', cmap=plt.cm.Blues, figsize=(10, 8)):\n",
    "    plt.figure(figsize=figsize)\n",
    "    plt.imshow(cm, interpolation='nearest', cmap=cmap)\n",
    "    plt.title(title)\n",
    "    plt.colorbar()\n",
    "    tick_marks = np.arange(len(classes))\n",
    "    plt.xticks(tick_marks, classes, rotation=90)\n",
    "    plt.yticks(tick_marks, classes)\n",
    "    fmt = '.0f'\n",
    "    thresh = cm.max() / 2.0\n",
    "    for i, j in itertools.product(range(cm.shape[0]), range(cm.shape[1])):\n",
    "        plt.text(j, i, format(cm[i, j], fmt), horizontalalignment=\"center\", color=\"white\" if cm[i, j] > thresh else \"black\")\n",
    "    plt.ylabel('True label')\n",
    "    plt.xlabel('Predicted label')\n",
    "    plt.tight_layout()\n",
    "    plt.show()"
   ]
  },
  {
   "cell_type": "markdown",
   "metadata": {},
   "source": [
    "# Analysis"
   ]
  },
  {
   "cell_type": "code",
   "execution_count": 22,
   "metadata": {
    "execution": {
     "iopub.execute_input": "2024-04-15T12:39:22.176689Z",
     "iopub.status.busy": "2024-04-15T12:39:22.175971Z",
     "iopub.status.idle": "2024-04-15T12:39:22.194733Z",
     "shell.execute_reply": "2024-04-15T12:39:22.193703Z",
     "shell.execute_reply.started": "2024-04-15T12:39:22.176658Z"
    }
   },
   "outputs": [
    {
     "name": "stdout",
     "output_type": "stream",
     "text": [
      "Accuracy: 0.9837\n",
      "F1 Score: 0.9837\n"
     ]
    }
   ],
   "source": [
    "accuracy = accuracy_score(y_true, y_pred)\n",
    "precision = precision_score(y_true, y_pred)\n",
    "recall = recall_score(y_true, y_pred)\n",
    "f1 = f1_score(y_true, y_pred, average='macro')\n",
    "print(f\"Accuracy: {accuracy:.4f}\")\n",
    "print(f\"F1 Score: {f1:.4f}\")"
   ]
  },
  {
   "cell_type": "code",
   "execution_count": 23,
   "metadata": {
    "execution": {
     "iopub.execute_input": "2024-04-15T12:39:22.456359Z",
     "iopub.status.busy": "2024-04-15T12:39:22.455639Z",
     "iopub.status.idle": "2024-04-15T12:39:22.806838Z",
     "shell.execute_reply": "2024-04-15T12:39:22.805841Z",
     "shell.execute_reply.started": "2024-04-15T12:39:22.456330Z"
    }
   },
   "outputs": [
    {
     "data": {
      "image/png": "[encoded data removed]",
      "text/plain": [
       "<Figure size 800x600 with 2 Axes>"
      ]
     },
     "metadata": {},
     "output_type": "display_data"
    }
   ],
   "source": [
    "if len(labels_list) <= 150:\n",
    "    cm = confusion_matrix(y_true, y_pred)\n",
    "    plot_confusion_matrix(cm, labels_list, figsize=(8, 6))\n"
   ]
  },
  {
   "cell_type": "code",
   "execution_count": 24,
   "metadata": {
    "execution": {
     "iopub.execute_input": "2024-04-15T12:39:23.371369Z",
     "iopub.status.busy": "2024-04-15T12:39:23.370867Z",
     "iopub.status.idle": "2024-04-15T12:39:23.406370Z",
     "shell.execute_reply": "2024-04-15T12:39:23.405296Z",
     "shell.execute_reply.started": "2024-04-15T12:39:23.371334Z"
    }
   },
   "outputs": [
    {
     "name": "stdout",
     "output_type": "stream",
     "text": [
      "Classification report:\n",
      "              precision    recall  f1-score   support\n",
      "\n",
      "        REAL     0.9869    0.9803    0.9836     24000\n",
      "        FAKE     0.9805    0.9870    0.9837     24000\n",
      "\n",
      "    accuracy                         0.9837     48000\n",
      "   macro avg     0.9837    0.9837    0.9837     48000\n",
      "weighted avg     0.9837    0.9837    0.9837     48000\n",
      "\n"
     ]
    }
   ],
   "source": [
    "print(\"Classification report:\")\n",
    "print(classification_report(y_true, y_pred, target_names=labels_list, digits=4))"
   ]
  },
  {
   "cell_type": "code",
   "execution_count": 25,
   "metadata": {
    "execution": {
     "iopub.execute_input": "2024-04-15T12:39:52.606731Z",
     "iopub.status.busy": "2024-04-15T12:39:52.606090Z",
     "iopub.status.idle": "2024-04-15T12:39:53.118067Z",
     "shell.execute_reply": "2024-04-15T12:39:53.117140Z",
     "shell.execute_reply.started": "2024-04-15T12:39:52.606700Z"
    }
   },
   "outputs": [],
   "source": [
    "trainer.save_model()"
   ]
  },
  {
   "cell_type": "code",
   "execution_count": null,
   "metadata": {},
   "outputs": [],
   "source": []
  },
  {
   "cell_type": "code",
   "execution_count": null,
   "metadata": {},
   "outputs": [],
   "source": []
  }
 ],
 "metadata": {
  "kaggle": {
   "accelerator": "nvidiaTeslaT4",
   "dataSources": [
    {
     "datasetId": 3041726,
     "sourceId": 5256696,
     "sourceType": "datasetVersion"
    }
   ],
   "dockerImageVersionId": 30683,
   "isGpuEnabled": true,
   "isInternetEnabled": true,
   "language": "python",
   "sourceType": "notebook"
  },
  "kernelspec": {
   "display_name": "Python 3 (ipykernel)",
   "language": "python",
   "name": "python3"
  },
  "language_info": {
   "codemirror_mode": {
    "name": "ipython",
    "version": 3
   },
   "file_extension": ".py",
   "mimetype": "text/x-python",
   "name": "python",
   "nbconvert_exporter": "python",
   "pygments_lexer": "ipython3",
   "version": "3.9.19"
  }
 },
 "nbformat": 4,
 "nbformat_minor": 4
}
