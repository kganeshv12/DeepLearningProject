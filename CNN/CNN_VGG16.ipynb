{
 "cells": [
  {
   "cell_type": "code",
   "execution_count": 1,
   "metadata": {},
   "outputs": [
    {
     "name": "stdout",
     "output_type": "stream",
     "text": [
      "\r\n",
      "\u001b[1m[\u001b[0m\u001b[34;49mnotice\u001b[0m\u001b[1;39;49m]\u001b[0m\u001b[39;49m A new release of pip is available: \u001b[0m\u001b[31;49m23.1\u001b[0m\u001b[39;49m -> \u001b[0m\u001b[32;49m24.0\u001b[0m\r\n",
      "\u001b[1m[\u001b[0m\u001b[34;49mnotice\u001b[0m\u001b[1;39;49m]\u001b[0m\u001b[39;49m To update, run: \u001b[0m\u001b[32;49mpython3.9 -m pip install --upgrade pip\u001b[0m\r\n"
     ]
    }
   ],
   "source": [
    "!pip install opendatasets --upgrade --quiet\n",
    "\n",
    "import pandas as pd\n",
    "import os\n",
    "import opendatasets as od\n",
    "\n",
    "# Assign the Kaggle data set URL into variable\n",
    "dataset = 'https://www.kaggle.com/datasets/birdy654/cifake-real-and-ai-generated-synthetic-images'\n",
    "# Using opendatasets let's download the data sets\n",
    "# od.download(dataset)\n",
    "# # {\"username\":\"kganeshv\",\"key\":\"224eab20b74a0a68fc7194190f513131\"}"
   ]
  },
  {
   "cell_type": "markdown",
   "metadata": {},
   "source": [
    "## Fine-tuning CNN for AI-generated Image Detection\n",
    "In this notebook, we will explore the task of classifying images as real or AI-generated using fine-tuning techniques with several well-known CNN architectures. For this classification task, we will use the CIFAKE dataset, which includes both real and AI-generated images.\n",
    "\n",
    "Link for the dataset: [CIFAKE: Real and AI-Generated Synthetic Images](https://www.kaggle.com/datasets/birdy654/cifake-real-and-ai-generated-synthetic-images)"
   ]
  },
  {
   "cell_type": "code",
   "execution_count": 2,
   "metadata": {},
   "outputs": [],
   "source": [
    "import numpy as np\n",
    "import matplotlib.pyplot as plt\n",
    "import tensorflow as tf\n",
    "from tensorflow.keras.layers import Dense, Dropout, BatchNormalization\n",
    "from tensorflow.keras import regularizers\n",
    "from sklearn.metrics import confusion_matrix, classification_report\n",
    "import seaborn as sns"
   ]
  },
  {
   "cell_type": "code",
   "execution_count": 3,
   "metadata": {},
   "outputs": [
    {
     "name": "stdout",
     "output_type": "stream",
     "text": [
      "Loading dataset from: cifake-real-and-ai-generated-synthetic-images\n"
     ]
    }
   ],
   "source": [
    "dataset_dir = \"cifake-real-and-ai-generated-synthetic-images\" # For Kaggle notebooks. If you run locally, point this line to the CIFAKE directory\n",
    "print(\"Loading dataset from: \" + dataset_dir)"
   ]
  },
  {
   "cell_type": "code",
   "execution_count": 4,
   "metadata": {},
   "outputs": [
    {
     "name": "stdout",
     "output_type": "stream",
     "text": [
      "Num GPUs Available:  1\n"
     ]
    }
   ],
   "source": [
    "# Check if GPUs are available for training\n",
    "print(\"Num GPUs Available: \", len(tf.config.list_physical_devices('GPU')))"
   ]
  },
  {
   "cell_type": "code",
   "execution_count": 12,
   "metadata": {},
   "outputs": [
    {
     "name": "stdout",
     "output_type": "stream",
     "text": [
      "Found 100000 files belonging to 2 classes.\n",
      "Found 20000 files belonging to 2 classes.\n",
      "Training Classes:\n",
      "['FAKE', 'REAL']\n",
      "Testing Classes:\n",
      "['FAKE', 'REAL']\n"
     ]
    }
   ],
   "source": [
    "img_height = 32\n",
    "img_width = 32\n",
    "batch_size = 500\n",
    "\n",
    "# Load the training data\n",
    "train_ds = tf.keras.utils.image_dataset_from_directory(\n",
    "  dataset_dir + \"/train\",\n",
    "  seed = 512,\n",
    "  image_size = (img_height, img_width),\n",
    "  batch_size = batch_size)\n",
    "\n",
    "# Load the validation data\n",
    "val_ds = tf.keras.utils.image_dataset_from_directory(\n",
    "  dataset_dir + \"/test\",\n",
    "  seed = 512,\n",
    "  image_size = (img_height, img_width),\n",
    "  batch_size = batch_size)\n",
    "\n",
    "print(\"Training Classes:\")\n",
    "class_names = train_ds.class_names\n",
    "print(class_names)\n",
    "\n",
    "print(\"Testing Classes:\")\n",
    "class_names = val_ds.class_names\n",
    "print(class_names)"
   ]
  },
  {
   "cell_type": "markdown",
   "metadata": {},
   "source": [
    "Larger batch sizes are expected to result in significantly longer training times, especially with a substantial training set of 100,000 images. However, the compact size of the images effectively reduces the impact on training duration."
   ]
  },
  {
   "cell_type": "code",
   "execution_count": 13,
   "metadata": {},
   "outputs": [],
   "source": [
    "# Function for plotting the error rate and metrics rate\n",
    "def plot_metrics(history, metric):\n",
    "    plt.plot(history.history[metric], label = metric)\n",
    "    plt.plot(history.history['val_' + metric], label='val_' + metric)\n",
    "    plt.xlabel('Epochs')\n",
    "    plt.ylabel(metric)\n",
    "    plt.legend()\n",
    "    plt.show()\n",
    "\n",
    "# Constant values that will be shared by all the models\n",
    "val_true_classes = np.concatenate([y for x, y in val_ds], axis = 0)  # Get true labels\n",
    "class_names = ['FAKE', 'REAL']\n",
    "early_stopping = tf.keras.callbacks.EarlyStopping(monitor = 'val_loss', patience = 10, restore_best_weights = True)"
   ]
  },
  {
   "cell_type": "markdown",
   "metadata": {},
   "source": [
    "### Model Building\n",
    "\n",
    "All the models share the same architecture for a fair comparison: the input layer, followed by the base model with pre-trained weights from the imagenet, then a few dense layers, and then a unit output with a sigmoid activation function.\n",
    "\n",
    "Training is conducted with early stopping criteria monitoring the validation loss, and the best weights will be restored once the training is completed."
   ]
  },
  {
   "cell_type": "code",
   "execution_count": 15,
   "metadata": {},
   "outputs": [
    {
     "name": "stdout",
     "output_type": "stream",
     "text": [
      "Downloading data from https://storage.googleapis.com/tensorflow/keras-applications/vgg16/vgg16_weights_tf_dim_ordering_tf_kernels_notop.h5\n",
      "58889256/58889256 [==============================] - 1s 0us/step\n",
      "Model: \"model_1\"\n",
      "_________________________________________________________________\n",
      " Layer (type)                Output Shape              Param #   \n",
      "=================================================================\n",
      " input_4 (InputLayer)        [(None, 32, 32, 3)]       0         \n",
      "                                                                 \n",
      " vgg16 (Functional)          (None, 512)               14714688  \n",
      "                                                                 \n",
      " batch_normalization_1 (Batc  (None, 512)              2048      \n",
      " hNormalization)                                                 \n",
      "                                                                 \n",
      " dense_3 (Dense)             (None, 256)               131328    \n",
      "                                                                 \n",
      " dropout_1 (Dropout)         (None, 256)               0         \n",
      "                                                                 \n",
      " dense_4 (Dense)             (None, 64)                16448     \n",
      "                                                                 \n",
      " dense_5 (Dense)             (None, 1)                 65        \n",
      "                                                                 \n",
      "=================================================================\n",
      "Total params: 14,864,577\n",
      "Trainable params: 14,863,553\n",
      "Non-trainable params: 1,024\n",
      "_________________________________________________________________\n"
     ]
    }
   ],
   "source": [
    "Net_base_model = tf.keras.applications.VGG16(\n",
    "    include_top = False,\n",
    "    weights = 'imagenet',\n",
    "    input_shape = (img_height, img_width, 3),\n",
    "    pooling = 'max'\n",
    ")\n",
    "Net_base_model.trainable = True\n",
    "\n",
    "\n",
    "inputs = tf.keras.Input(shape = (img_height, img_width, 3))\n",
    "x = Net_base_model(inputs, training = False)\n",
    "x = BatchNormalization(axis = -1, momentum = 0.99, epsilon = 0.001)(x)\n",
    "x = Dense(256,\n",
    "          kernel_regularizer = regularizers.l2(0.01),\n",
    "          activity_regularizer = regularizers.l1(0.01),\n",
    "          bias_regularizer = regularizers.l1(0.01),\n",
    "          activation = 'relu')(x)\n",
    "x = Dropout(rate = .4, seed = 512)(x)\n",
    "x = Dense(64, activation = 'relu')(x)\n",
    "outputs = Dense(1, activation = 'sigmoid')(x)\n",
    "Net_model = tf.keras.Model(inputs, outputs)\n",
    "\n",
    "# Compile the model\n",
    "Net_model.compile(\n",
    "    optimizer = tf.keras.optimizers.Adamax(learning_rate = .001),\n",
    "    loss = tf.keras.losses.BinaryCrossentropy(),\n",
    "    metrics = ['accuracy', tf.keras.metrics.Precision(), tf.keras.metrics.Recall()]\n",
    ")\n",
    "\n",
    "# Summary of the model\n",
    "Net_model.summary()"
   ]
  },
  {
   "cell_type": "code",
   "execution_count": 16,
   "metadata": {},
   "outputs": [
    {
     "name": "stdout",
     "output_type": "stream",
     "text": [
      "Starting training with Transfer Learning using Net50...\n",
      "Epoch 1/100\n",
      "200/200 [==============================] - 19s 76ms/step - loss: 1.6115 - accuracy: 0.7370 - precision_1: 0.7172 - recall_1: 0.7825 - val_loss: 1.4758 - val_accuracy: 0.5284 - val_precision_1: 0.5146 - val_recall_1: 0.9999\n",
      "Epoch 2/100\n",
      "200/200 [==============================] - 15s 74ms/step - loss: 0.4139 - accuracy: 0.9122 - precision_1: 0.9094 - recall_1: 0.9155 - val_loss: 0.8374 - val_accuracy: 0.6241 - val_precision_1: 0.5709 - val_recall_1: 0.9996\n",
      "Epoch 3/100\n",
      "200/200 [==============================] - 15s 74ms/step - loss: 0.2417 - accuracy: 0.9361 - precision_1: 0.9390 - recall_1: 0.9328 - val_loss: 0.6445 - val_accuracy: 0.7174 - val_precision_1: 0.6390 - val_recall_1: 0.9994\n",
      "Epoch 4/100\n",
      "200/200 [==============================] - 15s 75ms/step - loss: 0.1818 - accuracy: 0.9488 - precision_1: 0.9511 - recall_1: 0.9463 - val_loss: 0.1747 - val_accuracy: 0.9467 - val_precision_1: 0.9283 - val_recall_1: 0.9681\n",
      "Epoch 5/100\n",
      "200/200 [==============================] - 15s 74ms/step - loss: 0.1528 - accuracy: 0.9563 - precision_1: 0.9597 - recall_1: 0.9526 - val_loss: 0.1535 - val_accuracy: 0.9513 - val_precision_1: 0.9403 - val_recall_1: 0.9638\n",
      "Epoch 6/100\n",
      "200/200 [==============================] - 15s 74ms/step - loss: 0.1305 - accuracy: 0.9627 - precision_1: 0.9653 - recall_1: 0.9600 - val_loss: 0.1296 - val_accuracy: 0.9595 - val_precision_1: 0.9598 - val_recall_1: 0.9592\n",
      "Epoch 7/100\n",
      "200/200 [==============================] - 15s 73ms/step - loss: 0.1163 - accuracy: 0.9674 - precision_1: 0.9702 - recall_1: 0.9644 - val_loss: 0.1292 - val_accuracy: 0.9599 - val_precision_1: 0.9503 - val_recall_1: 0.9705\n",
      "Epoch 8/100\n",
      "200/200 [==============================] - 15s 73ms/step - loss: 0.1014 - accuracy: 0.9720 - precision_1: 0.9735 - recall_1: 0.9704 - val_loss: 0.2011 - val_accuracy: 0.9355 - val_precision_1: 0.8927 - val_recall_1: 0.9901\n",
      "Epoch 9/100\n",
      "200/200 [==============================] - 15s 74ms/step - loss: 0.0907 - accuracy: 0.9757 - precision_1: 0.9772 - recall_1: 0.9741 - val_loss: 0.1140 - val_accuracy: 0.9657 - val_precision_1: 0.9724 - val_recall_1: 0.9586\n",
      "Epoch 10/100\n",
      "200/200 [==============================] - 15s 73ms/step - loss: 0.0792 - accuracy: 0.9793 - precision_1: 0.9806 - recall_1: 0.9779 - val_loss: 0.2903 - val_accuracy: 0.9171 - val_precision_1: 0.9921 - val_recall_1: 0.8409\n",
      "Epoch 11/100\n",
      "200/200 [==============================] - 15s 73ms/step - loss: 0.0720 - accuracy: 0.9819 - precision_1: 0.9827 - recall_1: 0.9810 - val_loss: 0.1625 - val_accuracy: 0.9520 - val_precision_1: 0.9237 - val_recall_1: 0.9855\n",
      "Epoch 12/100\n",
      "200/200 [==============================] - 15s 74ms/step - loss: 0.0607 - accuracy: 0.9854 - precision_1: 0.9864 - recall_1: 0.9844 - val_loss: 0.1326 - val_accuracy: 0.9643 - val_precision_1: 0.9570 - val_recall_1: 0.9722\n",
      "Epoch 13/100\n",
      "200/200 [==============================] - 15s 73ms/step - loss: 0.0511 - accuracy: 0.9883 - precision_1: 0.9887 - recall_1: 0.9880 - val_loss: 0.1311 - val_accuracy: 0.9631 - val_precision_1: 0.9625 - val_recall_1: 0.9638\n",
      "Epoch 14/100\n",
      "200/200 [==============================] - 16s 79ms/step - loss: 0.0476 - accuracy: 0.9891 - precision_1: 0.9896 - recall_1: 0.9886 - val_loss: 0.1315 - val_accuracy: 0.9654 - val_precision_1: 0.9676 - val_recall_1: 0.9630\n",
      "Epoch 15/100\n",
      "200/200 [==============================] - 15s 73ms/step - loss: 0.0399 - accuracy: 0.9918 - precision_1: 0.9922 - recall_1: 0.9914 - val_loss: 0.2074 - val_accuracy: 0.9521 - val_precision_1: 0.9222 - val_recall_1: 0.9875\n",
      "Epoch 16/100\n",
      "200/200 [==============================] - 15s 74ms/step - loss: 0.0343 - accuracy: 0.9931 - precision_1: 0.9931 - recall_1: 0.9931 - val_loss: 0.1441 - val_accuracy: 0.9635 - val_precision_1: 0.9746 - val_recall_1: 0.9519\n",
      "Epoch 17/100\n",
      "200/200 [==============================] - 15s 74ms/step - loss: 0.0308 - accuracy: 0.9942 - precision_1: 0.9945 - recall_1: 0.9938 - val_loss: 0.1907 - val_accuracy: 0.9560 - val_precision_1: 0.9880 - val_recall_1: 0.9233\n",
      "Epoch 18/100\n",
      "200/200 [==============================] - 15s 73ms/step - loss: 0.0296 - accuracy: 0.9944 - precision_1: 0.9945 - recall_1: 0.9942 - val_loss: 0.1518 - val_accuracy: 0.9666 - val_precision_1: 0.9769 - val_recall_1: 0.9558\n",
      "Epoch 19/100\n",
      "200/200 [==============================] - 15s 73ms/step - loss: 0.0278 - accuracy: 0.9947 - precision_1: 0.9949 - recall_1: 0.9944 - val_loss: 0.1921 - val_accuracy: 0.9606 - val_precision_1: 0.9849 - val_recall_1: 0.9355\n",
      "Transfer Learning training finished.\n"
     ]
    }
   ],
   "source": [
    "# Train the Transfer Learning model\n",
    "print(\"Starting training with Transfer Learning using Net50...\")\n",
    "ResNet_model_history = Net_model.fit(\n",
    "    train_ds,\n",
    "    validation_data = val_ds,\n",
    "    epochs = 100,\n",
    "    verbose = 1,\n",
    "    callbacks = [early_stopping]\n",
    ")\n",
    "print(\"Transfer Learning training finished.\")"
   ]
  },
  {
   "cell_type": "code",
   "execution_count": 17,
   "metadata": {},
   "outputs": [
    {
     "name": "stdout",
     "output_type": "stream",
     "text": [
      "40/40 [==============================] - 1s 31ms/step - loss: 0.1140 - accuracy: 0.9657 - precision_1: 0.9724 - recall_1: 0.9586\n",
      "Val Loss: 0.1140\n",
      "Val Accuracy: 0.9657\n",
      "Val Precision: 0.9724\n",
      "Val Recall: 0.9586\n"
     ]
    }
   ],
   "source": [
    "# Evaluate the model on the test dataset\n",
    "val_loss, val_accuracy, val_precision, val_recall = Net_model.evaluate(val_ds)\n",
    "\n",
    "# Print the metrics\n",
    "print(f\"Val Loss: {val_loss:.4f}\")\n",
    "print(f\"Val Accuracy: {val_accuracy:.4f}\")\n",
    "print(f\"Val Precision: {val_precision:.4f}\")\n",
    "print(f\"Val Recall: {val_recall:.4f}\")"
   ]
  },
  {
   "cell_type": "code",
   "execution_count": 20,
   "metadata": {},
   "outputs": [
    {
     "data": {
      "image/png": "[encoded data removed]",
      "text/plain": [
       "<Figure size 640x480 with 1 Axes>"
      ]
     },
     "metadata": {},
     "output_type": "display_data"
    },
    {
     "data": {
      "image/png": "[encoded data removed]",
      "text/plain": [
       "<Figure size 640x480 with 1 Axes>"
      ]
     },
     "metadata": {},
     "output_type": "display_data"
    }
   ],
   "source": [
    "# Plot error rates and metric rates\n",
    "plot_metrics(ResNet_model_history, 'loss')\n",
    "plot_metrics(ResNet_model_history, 'accuracy')\n",
    "# plot_metrics(ResNet_model_history, 'recall')\n",
    "# plot_metrics(ResNet_model_history, 'precision')\n"
   ]
  },
  {
   "cell_type": "code",
   "execution_count": null,
   "metadata": {},
   "outputs": [],
   "source": []
  },
  {
   "cell_type": "code",
   "execution_count": null,
   "metadata": {},
   "outputs": [],
   "source": []
  }
 ],
 "metadata": {
  "kernelspec": {
   "display_name": "Python 3 (ipykernel)",
   "language": "python",
   "name": "python3"
  },
  "language_info": {
   "codemirror_mode": {
    "name": "ipython",
    "version": 3
   },
   "file_extension": ".py",
   "mimetype": "text/x-python",
   "name": "python",
   "nbconvert_exporter": "python",
   "pygments_lexer": "ipython3",
   "version": "3.9.19"
  }
 },
 "nbformat": 4,
 "nbformat_minor": 2
}
